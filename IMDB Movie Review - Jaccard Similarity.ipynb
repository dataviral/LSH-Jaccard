{
 "cells": [
  {
   "cell_type": "code",
   "execution_count": 1,
   "metadata": {
    "collapsed": true
   },
   "outputs": [],
   "source": [
    "__author__ = \"dataviral\""
   ]
  },
  {
   "cell_type": "markdown",
   "metadata": {},
   "source": [
    "# Jaccard Similarity using Locality Sensitive Hashing\n",
    "\n",
    "- Many problems in NLP require the calculation jaccard similarity of long sequences of text\n",
    "- The datasketch library provides an implementation of the Locality Sensitive Hashing algorithm which makes computing jaccard similarity very fast\n",
    "- This notebook first describes how to use datasketh to infer senteces with high jaccard similarity from a medium size movie review dataset.\n",
    "- The Last section describes shows a naive implementation for jaccard similarity.\n",
    "- Comparing the 2 approaches; the efficiency of LSH for computing similarity between sentences beomes evident.\n",
    "\n",
    "*PS: Jaccard similarity is an indicator of **syntactic similarity***"
   ]
  },
  {
   "cell_type": "markdown",
   "metadata": {},
   "source": [
    "### Install requires libs"
   ]
  },
  {
   "cell_type": "code",
   "execution_count": null,
   "metadata": {
    "collapsed": true,
    "scrolled": true
   },
   "outputs": [],
   "source": [
    "!pip install datasketch\n",
    "!pip install pandas\n",
    "!pip install tqdm"
   ]
  },
  {
   "cell_type": "code",
   "execution_count": 17,
   "metadata": {
    "collapsed": true,
    "scrolled": true
   },
   "outputs": [],
   "source": [
    "import pandas as pd\n",
    "from datasketch import MinHash, MinHashLSH\n",
    "from tqdm import tqdm"
   ]
  },
  {
   "cell_type": "markdown",
   "metadata": {},
   "source": [
    "### Load Data"
   ]
  },
  {
   "cell_type": "code",
   "execution_count": 4,
   "metadata": {
    "collapsed": true
   },
   "outputs": [],
   "source": [
    "DATA_PATH = \"./data/imdb/imdb_master.csv\" # https://www.kaggle.com/utathya/imdb-review-dataset\n",
    "df = pd.read_csv(DATA_PATH, encoding='latin1', index_col=0)"
   ]
  },
  {
   "cell_type": "markdown",
   "metadata": {},
   "source": [
    "### Store data as key value pairs"
   ]
  },
  {
   "cell_type": "code",
   "execution_count": 13,
   "metadata": {
    "collapsed": true
   },
   "outputs": [],
   "source": [
    "reviews = dict()\n",
    "for key, value in enumerate(df.review.values):\n",
    "    reviews[key] = value"
   ]
  },
  {
   "cell_type": "markdown",
   "metadata": {},
   "source": [
    "### Create LSH object for jaccard calculations"
   ]
  },
  {
   "cell_type": "code",
   "execution_count": 14,
   "metadata": {
    "collapsed": true
   },
   "outputs": [],
   "source": [
    "lsh = MinHashLSH(\n",
    "    threshold= 0.5, # Jaccard similarity threshold\n",
    "    num_perm=128,   # Number of hash functions\n",
    ")"
   ]
  },
  {
   "cell_type": "markdown",
   "metadata": {},
   "source": [
    "### Update the Hash"
   ]
  },
  {
   "cell_type": "code",
   "execution_count": 18,
   "metadata": {},
   "outputs": [
    {
     "name": "stderr",
     "output_type": "stream",
     "text": [
      "100%|██████████| 100000/100000 [06:07<00:00, 271.85it/s]\n"
     ]
    }
   ],
   "source": [
    "for key in tqdm(reviews):\n",
    "    review_hash = MinHash()\n",
    "    # Iterate over words and add to the review specific hash\n",
    "    for word in reviews[key].split(\" \"):\n",
    "        review_hash.update(word.encode(\"utf-8\"))\n",
    "    \n",
    "    # Now insert the review specific hash to lsh object\n",
    "    lsh.insert(key, review_hash)"
   ]
  },
  {
   "cell_type": "markdown",
   "metadata": {},
   "source": [
    "### Query from the hash"
   ]
  },
  {
   "cell_type": "code",
   "execution_count": 23,
   "metadata": {
    "collapsed": true
   },
   "outputs": [],
   "source": [
    "def query(lsh, sentence):\n",
    "    \"\"\" builds the hash for the sentence and query's the hash for similar senteces \"\"\"\n",
    "    sentence_hash = MinHash()\n",
    "    for word in sentence.split(\" \"):\n",
    "        sentence_hash.update(word.encode(\"utf-8\"))\n",
    "    \n",
    "    similar_sentences_ids = lsh.query(sentence_hash)\n",
    "    return similar_sentences_ids"
   ]
  },
  {
   "cell_type": "code",
   "execution_count": 49,
   "metadata": {},
   "outputs": [
    {
     "name": "stdout",
     "output_type": "stream",
     "text": [
      "Query Sentence: \n",
      " This is the third movie in a month I have watched that did not go the way I expected. The first two being The Black Dahlia and Hollywoodland, neither of which gave any new ideas of who committed the crimes.<br /><br />I have always had a fascination with UFOs and was so excited to see a new movie on the subject of UFO investigation that was not a comedy. But after about 30 minutes, it all went horribly wrong.<br /><br />I could have stood for the acting, the camera angles, the stereotypes if only there was a good story about chasing UFOs, but none here. I am not saying there was anything wrong with the subject matter, but Netflix pushed this movie as a UFO skeptic and a UFO believer investigating multiple sitings.<br /><br />I stopped watching about half way thru. Can't believe I wasted that much time with this one. Please don't make the same mistake I did.\n"
     ]
    }
   ],
   "source": [
    "# Pick a sentence in the dataset to use as query senteces\n",
    "query_review_id = 200\n",
    "\n",
    "query_review = reviews[query_review_id] # movie review with key as 1000\n",
    "print(\"Query Sentence: \\n\", query_review)"
   ]
  },
  {
   "cell_type": "code",
   "execution_count": 50,
   "metadata": {
    "collapsed": true
   },
   "outputs": [],
   "source": [
    "# Find all sentences in the dataset similar to the query sentence\n",
    "similar_reviews_ids = query(lsh, query_review)"
   ]
  },
  {
   "cell_type": "code",
   "execution_count": 52,
   "metadata": {},
   "outputs": [
    {
     "name": "stdout",
     "output_type": "stream",
     "text": [
      "Similar review 1:\n",
      "\n",
      "Wow. I went to the video store tonight because I was in the mood for a bad B Horror movie and I found this Gem. I looked at the cover and I thought it looked like just the movie for my mood. I brought it home and put it on.<br /><br />This movie was not the B Horror movie that I had in mind. This was MUCH worse. I wanted a bad movie but what I got, I didn't know that crap like this existed amongst man. This movie seemed like a 5 year old wrote and directed it and that is being nice about it.<br /><br />I am an aspiring director and this movie made me so mad that someone out there is actually paying this guy to direct movies. He needs to work at a garbage dump shoveling crap where he belongs.<br /><br />If you are thinking about renting this or buying it. I will tell you the same thing that I would tell someone getting ready to commit suicide. \"DON'T DO IT, IT'S NOT WORTH IT!\" I really have nothing nice to say about this movie. DON'T DO IT!\n",
      "---------\n",
      "\n",
      "Similar review 2:\n",
      "\n",
      "This movie made absolutely no sense whatsoever. OK they went over the line with going against political correctness. I guess that was the reason for this film. Word of mouth brings in people that are against political correctness or something like that.Thus,they fill a niche and make guaranteed money. Capitalism, the Howard Stern way. Thats fine,but it was a lousy product. The film dared to be different. By being overly anti political correct, that is ultimately what killed this film. The politically incorrect humor was diluted after 10 minutes of this film. It was just forced. Thus the shock was not only not funny, but not shocking anymore. Artie Lang was atrocious and so was Ralph Macchio. I can understand why Mr. Macchio is not getting parts. This was a film that did not need to be made. Yes usual fare of heavyset,middle age loser , living with his mom somehow an item with a beautiful woman. Predictable movie, taking place in working class town in NJ. Caricatures, stereotypes,lame humor,hard liquor but no beer. This movie had it all and managed to make it NOT work. The plot , party animal, fraternity type of misfits trying to win a softball championship against an elite snobs team. They even managed a stereotype here, making this obnoxious mayoral candidate a cousin of one of our protagonists. There you have the plot. See this at your own peril.\n",
      "---------\n",
      "\n",
      "Similar review 3:\n",
      "\n",
      "I stumbled across this (Act-I) by pure dumb luck and this was more than a decade ago. This was'nt even what the cover label on the tape mentioned. It amazed me. It intimidated me. It shocked me. I eventually forgot about and almost a decade later, I happened to think about it again. Then went and bought both acts. They were even better than I had experienced at first.<br /><br />My only complaint is that while the Tank Police keep on going on and on about being at war with crime, warranting tanks and heavy artillery, it would seem as though they are really having a hard time with criminals. That is either never shown or is simply a lie as they appear to be taking it easy most of the time. If that bit about being in a state of war was really propaganda, it certainly has not been shown as such.<br /><br />I don't think the original Japanese version could have been any where as good as the Americanized version of this. But regarding the story, there has certainly been some proper explanations lost in translation but it can be excused.\n",
      "---------\n",
      "\n",
      "Similar review 4:\n",
      "\n",
      "oh dear. waves of kids being murdered in favellas in rio de janeiro. an interesting, if disturbing topic. who is responsible? enter rae dawn chong, beautiful but somewhat limited actress (see Commando) and one of the Kemp brothers (of the hallowed thespian soap opera school of acting) Add revered (reviled?) soft porn director Zalman King and the result is an excuse of a film that doesn't really work on any level. The directing credit is actually shared between King and one Walter Avancini, and the difference in opinion they must have had is obvious as the film changes direction frequently, unsure of it's path. the flashbacks are repetitive and irritating, the voodoo sub-plot ridiculous, the characters either too sleazy for words or just plain awful.If you want to see Chong naked this will(maybe)satisfy you, but at what price? There probably IS a good movie to be made on this subject matter, but Boca isn't it.\n",
      "---------\n",
      "\n",
      "Similar review 5:\n",
      "\n",
      "I have seen some bad movies (Austin Powers - The Spy Who Shagged Me, Batman Forever), but this film is so awful, so BORING, that I got about half way through and could not bear watching the rest. A pity. Boasting talent such as Kenneth Branagh, Embeth Davitz and Robert Duvall and a story by John Grisham, what went wrong? Branagh is a big-time lawyer who has a one-night fling with Davitz. Her father (Duvall) is a psychopath who hanged her cat, etc, etc, so Branagh has him sent to a nuthouse, and he promptly escapes. Somehow (I couldn't figure out how) Robert Downey jr, Daryl Hannah, Famke Janssen and Tom Berenger are all mixed into the story which moves slower than stationary. I wanted to like this, and, being a huge Grisham fan, have read all about this movie and I (foolishly) expected something interesting. This is honestly the WORST film I've seen to date and I wish I could have my money refunded. * out of *****.\n",
      "---------\n",
      "\n"
     ]
    }
   ],
   "source": [
    "# Show the similar sentences\n",
    "for i, review_id in enumerate(similar_reviews_ids):\n",
    "    if review_id == query_review_id: continue\n",
    "    print(\"Similar review {}:\\n\".format(i))\n",
    "    print(reviews[review_id])\n",
    "    print(\"---------\\n\")"
   ]
  },
  {
   "cell_type": "markdown",
   "metadata": {},
   "source": [
    "# The Naive Way"
   ]
  },
  {
   "cell_type": "markdown",
   "metadata": {},
   "source": [
    "### Function to calculate jaccard similarity b/w 2 sentences the naive python way "
   ]
  },
  {
   "cell_type": "code",
   "execution_count": 54,
   "metadata": {
    "collapsed": true
   },
   "outputs": [],
   "source": [
    "def compute_jaccard(sentence1, sentence2):\n",
    "    words_in_sentence1 = set(sentence1.split(\" \"))\n",
    "    words_in_sentence2 = set(sentence2.split(\" \"))\n",
    "    \n",
    "    return len(words_in_sentence1 & words_in_sentence2) / len(words_in_sentence1 | words_in_sentence2)"
   ]
  },
  {
   "cell_type": "markdown",
   "metadata": {},
   "source": [
    "### Finding similar senteces in the dataset using the naive python way."
   ]
  },
  {
   "cell_type": "code",
   "execution_count": 70,
   "metadata": {
    "collapsed": true,
    "scrolled": true
   },
   "outputs": [],
   "source": [
    "def get_similar_senteces_naive(sentence, reviews, jaccard_thresh=0.5):\n",
    "    similar_sentences_ids = []\n",
    "    for key in reviews:\n",
    "        js = compute_jaccard(sentence, reviews[key])\n",
    "        if js >= jaccard_thresh:\n",
    "            similar_sentences_ids.append(key)\n",
    "    return similar_sentences_ids"
   ]
  },
  {
   "cell_type": "code",
   "execution_count": 63,
   "metadata": {},
   "outputs": [
    {
     "name": "stdout",
     "output_type": "stream",
     "text": [
      "5.69 s ± 175 ms per loop (mean ± std. dev. of 7 runs, 1 loop each)\n"
     ]
    }
   ],
   "source": [
    "# Naive method\n",
    "%timeit get_similar_senteces_naive(query_review, reviews, 0.5)"
   ]
  },
  {
   "cell_type": "code",
   "execution_count": 65,
   "metadata": {},
   "outputs": [
    {
     "name": "stdout",
     "output_type": "stream",
     "text": [
      "2.62 ms ± 101 µs per loop (mean ± std. dev. of 7 runs, 100 loops each)\n"
     ]
    }
   ],
   "source": [
    "# Using lsh\n",
    "%timeit query(lsh, query_review)"
   ]
  },
  {
   "cell_type": "markdown",
   "metadata": {},
   "source": [
    "# The speed up"
   ]
  },
  {
   "cell_type": "code",
   "execution_count": 69,
   "metadata": {},
   "outputs": [
    {
     "name": "stdout",
     "output_type": "stream",
     "text": [
      "LSH is about 2171.7557251908397 times faster\n"
     ]
    }
   ],
   "source": [
    "print(\"LSH is about {} times faster\".format((5.69 * 1000) / 2.62))"
   ]
  }
 ],
 "metadata": {
  "kernelspec": {
   "display_name": "Python [FNC]",
   "language": "python",
   "name": "Python [FNC]"
  },
  "language_info": {
   "codemirror_mode": {
    "name": "ipython",
    "version": 3
   },
   "file_extension": ".py",
   "mimetype": "text/x-python",
   "name": "python",
   "nbconvert_exporter": "python",
   "pygments_lexer": "ipython3",
   "version": "3.6.9"
  }
 },
 "nbformat": 4,
 "nbformat_minor": 2
}
